{
 "cells": [
  {
   "cell_type": "code",
   "execution_count": 1,
   "id": "d6f9d77d",
   "metadata": {},
   "outputs": [],
   "source": [
    "import pandas as pd\n",
    "import numpy as np\n",
    "import os\n",
    "import seaborn as sns; sns.set_style(\"darkgrid\")\n",
    "import matplotlib.pyplot as plt\n",
    "%matplotlib inline"
   ]
  },
  {
   "cell_type": "code",
   "execution_count": 2,
   "id": "de514aae",
   "metadata": {},
   "outputs": [],
   "source": [
    "gw35 = pd.read_csv(\"https://raw.githubusercontent.com/vaastav/Fantasy-Premier-League/master/data/2023-24/gws/gw35.csv\")"
   ]
  },
  {
   "cell_type": "code",
   "execution_count": 3,
   "id": "98df07cf",
   "metadata": {},
   "outputs": [
    {
     "data": {
      "text/plain": [
       "874"
      ]
     },
     "execution_count": 3,
     "metadata": {},
     "output_type": "execute_result"
    }
   ],
   "source": [
    "gw35 = gw35[[\"name\", \"position\", \"team\", \"total_points\"]]\n",
    "gw35 = gw35.rename(columns={\"total_points\":\"week_points\"})\n",
    "sum(gw35[\"week_points\"])"
   ]
  },
  {
   "cell_type": "markdown",
   "id": "5badc072",
   "metadata": {},
   "source": [
    "### Performance Analysis"
   ]
  },
  {
   "cell_type": "code",
   "execution_count": 4,
   "id": "9384f9c8",
   "metadata": {},
   "outputs": [],
   "source": [
    "gw35_list_classical = os.listdir(\"gw35_exp_classical\")\n",
    "df = pd.DataFrame()\n",
    "count = 1\n",
    "for data in gw35_list_classical:\n",
    "    if \".csv\" in data:\n",
    "        #print(data)\n",
    "        new_df = pd.read_csv(\"gw35_exp_classical/\" + data)\n",
    "        new_df = new_df.merge(gw35, on = [\"name\", \"team\", \"position\"], how = \"left\")\n",
    "        #df_info = pd.DataFrame()\n",
    "        #df_info[\"total_points\"] = sum(new_df[\"week_points\"])\n",
    "        new_df[\"iteration\"] = count\n",
    "        new_df[\"GW\"] = 35\n",
    "        count += 1\n",
    "        df = pd.concat([df, new_df], axis = 0).reset_index(drop=True)\n",
    "        \n",
    "df_grouped_classical = df.groupby([\"iteration\", \"GW\"], as_index=False)[\"week_points\"].sum()\n",
    "df_grouped_classical[\"type\"] = \"classical_100\""
   ]
  },
  {
   "cell_type": "code",
   "execution_count": 5,
   "id": "80e01d43",
   "metadata": {},
   "outputs": [],
   "source": [
    "gw35_list_classical_1000 = os.listdir(\"gw35_exp_classical_1000\")\n",
    "df = pd.DataFrame()\n",
    "count = 1\n",
    "for data in gw35_list_classical_1000:\n",
    "    if \".csv\" in data:\n",
    "        #print(data)\n",
    "        new_df = pd.read_csv(\"gw35_exp_classical_1000/\" + data)\n",
    "        new_df = new_df.merge(gw35, on = [\"name\", \"team\", \"position\"], how = \"left\")\n",
    "        #df_info = pd.DataFrame()\n",
    "        #df_info[\"total_points\"] = sum(new_df[\"week_points\"])\n",
    "        new_df[\"iteration\"] = count\n",
    "        new_df[\"GW\"] = 35\n",
    "        count += 1\n",
    "        df = pd.concat([df, new_df], axis = 0).reset_index(drop=True)\n",
    "        \n",
    "df_grouped_classical_1000 = df.groupby([\"iteration\", \"GW\"], as_index=False)[\"week_points\"].sum()\n",
    "df_grouped_classical_1000[\"type\"] = \"classical_1000\""
   ]
  },
  {
   "cell_type": "code",
   "execution_count": 6,
   "id": "6ccf4b74",
   "metadata": {},
   "outputs": [],
   "source": [
    "gw35_list_classical_10000 = os.listdir(\"gw35_exp_classical_10000\")\n",
    "df = pd.DataFrame()\n",
    "count = 1\n",
    "for data in gw35_list_classical_10000:\n",
    "    if \".csv\" in data:\n",
    "        #print(data)\n",
    "        new_df = pd.read_csv(\"gw35_exp_classical_10000/\" + data)\n",
    "        new_df = new_df.merge(gw35, on = [\"name\", \"team\", \"position\"], how = \"left\")\n",
    "        #df_info = pd.DataFrame()\n",
    "        #df_info[\"total_points\"] = sum(new_df[\"week_points\"])\n",
    "        new_df[\"iteration\"] = count\n",
    "        new_df[\"GW\"] = 35\n",
    "        count += 1\n",
    "        df = pd.concat([df, new_df], axis = 0).reset_index(drop=True)\n",
    "        \n",
    "df_grouped_classical_10000 = df.groupby([\"iteration\", \"GW\"], as_index=False)[\"week_points\"].sum()\n",
    "df_grouped_classical_10000[\"type\"] = \"classical_10000\""
   ]
  },
  {
   "cell_type": "code",
   "execution_count": 7,
   "id": "03fb93eb",
   "metadata": {},
   "outputs": [],
   "source": [
    "gw35_list_quantum = os.listdir(\"gw35_exp_quantum\")\n",
    "df = pd.DataFrame()\n",
    "count = 1\n",
    "for data in gw35_list_quantum:\n",
    "    if \".csv\" in data:\n",
    "        #print(data)\n",
    "        new_df = pd.read_csv(\"gw35_exp_quantum/\" + data)\n",
    "        new_df = new_df.merge(gw35, on = [\"name\", \"team\", \"position\"], how = \"left\")\n",
    "        #df_info = pd.DataFrame()\n",
    "        #df_info[\"total_points\"] = sum(new_df[\"week_points\"])\n",
    "        new_df[\"iteration\"] = count\n",
    "        new_df[\"GW\"] = 35\n",
    "        count += 1\n",
    "        df = pd.concat([df, new_df], axis = 0).reset_index(drop=True)\n",
    "        \n",
    "df_grouped_quantum = df.groupby([\"iteration\", \"GW\"], as_index=False)[\"week_points\"].sum()\n",
    "df_grouped_quantum[\"type\"] = \"quantum\""
   ]
  },
  {
   "cell_type": "code",
   "execution_count": 8,
   "id": "9054738a",
   "metadata": {},
   "outputs": [],
   "source": [
    "tot_df = pd.concat([df_grouped_classical, df_grouped_classical_1000, df_grouped_classical_10000, df_grouped_quantum], axis = 0).reset_index(drop=True)"
   ]
  },
  {
   "cell_type": "code",
   "execution_count": 9,
   "id": "894f912c",
   "metadata": {},
   "outputs": [
    {
     "data": {
      "image/png": "[encoded data removed]",
      "text/plain": [
       "<Figure size 864x432 with 1 Axes>"
      ]
     },
     "metadata": {
      "needs_background": "light"
     },
     "output_type": "display_data"
    }
   ],
   "source": [
    "plt.figure(figsize=(12,6))\n",
    "plt.title(\"Distribution of FPL points for different configurations\", fontsize=14)\n",
    "sns.boxplot(x = \"type\", y = \"week_points\", data = tot_df)\n",
    "plt.xlabel(\"Configuration\", fontsize=12)\n",
    "plt.ylabel(\"FPL points\", fontsize=12)\n",
    "plt.savefig(\"results/gw35_boxplot.png\")\n",
    "plt.show();"
   ]
  },
  {
   "cell_type": "code",
   "execution_count": 10,
   "id": "9fb41b67",
   "metadata": {},
   "outputs": [
    {
     "data": {
      "text/html": [
       "<div>\n",
       "<style scoped>\n",
       "    .dataframe tbody tr th:only-of-type {\n",
       "        vertical-align: middle;\n",
       "    }\n",
       "\n",
       "    .dataframe tbody tr th {\n",
       "        vertical-align: top;\n",
       "    }\n",
       "\n",
       "    .dataframe thead th {\n",
       "        text-align: right;\n",
       "    }\n",
       "</style>\n",
       "<table border=\"1\" class=\"dataframe\">\n",
       "  <thead>\n",
       "    <tr style=\"text-align: right;\">\n",
       "      <th></th>\n",
       "      <th>count</th>\n",
       "      <th>mean</th>\n",
       "      <th>std</th>\n",
       "      <th>min</th>\n",
       "      <th>25%</th>\n",
       "      <th>50%</th>\n",
       "      <th>75%</th>\n",
       "      <th>max</th>\n",
       "    </tr>\n",
       "    <tr>\n",
       "      <th>type</th>\n",
       "      <th></th>\n",
       "      <th></th>\n",
       "      <th></th>\n",
       "      <th></th>\n",
       "      <th></th>\n",
       "      <th></th>\n",
       "      <th></th>\n",
       "      <th></th>\n",
       "    </tr>\n",
       "  </thead>\n",
       "  <tbody>\n",
       "    <tr>\n",
       "      <th>classical_100</th>\n",
       "      <td>50.0</td>\n",
       "      <td>41.04</td>\n",
       "      <td>9.764492</td>\n",
       "      <td>20.0</td>\n",
       "      <td>35.25</td>\n",
       "      <td>40.0</td>\n",
       "      <td>47.00</td>\n",
       "      <td>69.0</td>\n",
       "    </tr>\n",
       "    <tr>\n",
       "      <th>classical_1000</th>\n",
       "      <td>50.0</td>\n",
       "      <td>43.36</td>\n",
       "      <td>12.888470</td>\n",
       "      <td>16.0</td>\n",
       "      <td>34.25</td>\n",
       "      <td>42.5</td>\n",
       "      <td>49.00</td>\n",
       "      <td>81.0</td>\n",
       "    </tr>\n",
       "    <tr>\n",
       "      <th>classical_10000</th>\n",
       "      <td>50.0</td>\n",
       "      <td>39.46</td>\n",
       "      <td>11.306870</td>\n",
       "      <td>11.0</td>\n",
       "      <td>31.00</td>\n",
       "      <td>38.5</td>\n",
       "      <td>48.00</td>\n",
       "      <td>61.0</td>\n",
       "    </tr>\n",
       "    <tr>\n",
       "      <th>quantum</th>\n",
       "      <td>50.0</td>\n",
       "      <td>43.82</td>\n",
       "      <td>13.205889</td>\n",
       "      <td>20.0</td>\n",
       "      <td>34.00</td>\n",
       "      <td>41.5</td>\n",
       "      <td>53.75</td>\n",
       "      <td>71.0</td>\n",
       "    </tr>\n",
       "  </tbody>\n",
       "</table>\n",
       "</div>"
      ],
      "text/plain": [
       "                 count   mean        std   min    25%   50%    75%   max\n",
       "type                                                                    \n",
       "classical_100     50.0  41.04   9.764492  20.0  35.25  40.0  47.00  69.0\n",
       "classical_1000    50.0  43.36  12.888470  16.0  34.25  42.5  49.00  81.0\n",
       "classical_10000   50.0  39.46  11.306870  11.0  31.00  38.5  48.00  61.0\n",
       "quantum           50.0  43.82  13.205889  20.0  34.00  41.5  53.75  71.0"
      ]
     },
     "execution_count": 10,
     "metadata": {},
     "output_type": "execute_result"
    }
   ],
   "source": [
    "tot_df.groupby(\"type\")[\"week_points\"].describe()"
   ]
  },
  {
   "cell_type": "code",
   "execution_count": 11,
   "id": "3ca67317",
   "metadata": {},
   "outputs": [
    {
     "data": {
      "text/html": [
       "<div>\n",
       "<style scoped>\n",
       "    .dataframe tbody tr th:only-of-type {\n",
       "        vertical-align: middle;\n",
       "    }\n",
       "\n",
       "    .dataframe tbody tr th {\n",
       "        vertical-align: top;\n",
       "    }\n",
       "\n",
       "    .dataframe thead th {\n",
       "        text-align: right;\n",
       "    }\n",
       "</style>\n",
       "<table border=\"1\" class=\"dataframe\">\n",
       "  <thead>\n",
       "    <tr style=\"text-align: right;\">\n",
       "      <th></th>\n",
       "      <th>type</th>\n",
       "      <th>week_points</th>\n",
       "    </tr>\n",
       "  </thead>\n",
       "  <tbody>\n",
       "    <tr>\n",
       "      <th>0</th>\n",
       "      <td>classical_100</td>\n",
       "      <td>41.04</td>\n",
       "    </tr>\n",
       "    <tr>\n",
       "      <th>1</th>\n",
       "      <td>classical_1000</td>\n",
       "      <td>43.36</td>\n",
       "    </tr>\n",
       "    <tr>\n",
       "      <th>2</th>\n",
       "      <td>classical_10000</td>\n",
       "      <td>39.46</td>\n",
       "    </tr>\n",
       "    <tr>\n",
       "      <th>3</th>\n",
       "      <td>quantum</td>\n",
       "      <td>43.82</td>\n",
       "    </tr>\n",
       "  </tbody>\n",
       "</table>\n",
       "</div>"
      ],
      "text/plain": [
       "              type  week_points\n",
       "0    classical_100        41.04\n",
       "1   classical_1000        43.36\n",
       "2  classical_10000        39.46\n",
       "3          quantum        43.82"
      ]
     },
     "execution_count": 11,
     "metadata": {},
     "output_type": "execute_result"
    }
   ],
   "source": [
    "tot_mean = tot_df.groupby(\"type\", as_index=False)[\"week_points\"].mean()\n",
    "tot_mean"
   ]
  },
  {
   "cell_type": "code",
   "execution_count": 12,
   "id": "837a9946",
   "metadata": {},
   "outputs": [
    {
     "data": {
      "image/png": "[encoded data removed]",
      "text/plain": [
       "<Figure size 864x432 with 1 Axes>"
      ]
     },
     "metadata": {
      "needs_background": "light"
     },
     "output_type": "display_data"
    }
   ],
   "source": [
    "plt.figure(figsize=(12,6))\n",
    "#sns.barplot(x = \"type\", y = \"week_points\", data = tot_mean)\n",
    "plt.title(\"Average FPL points for different configurations\", fontsize=14)\n",
    "ax = sns.barplot(x = \"type\", y = \"week_points\", data = tot_mean)\n",
    "ax.bar_label(ax.containers[0], labels=tot_mean['week_points'], fontsize=12)\n",
    "plt.xlabel(\"Configuration\", fontsize=12)\n",
    "plt.ylabel(\"Average FPL points\", fontsize=12)\n",
    "plt.ylim(39, 45)\n",
    "plt.savefig(\"results/gw35_barchart.png\")\n",
    "plt.show();"
   ]
  },
  {
   "cell_type": "code",
   "execution_count": null,
   "id": "fe3de418",
   "metadata": {},
   "outputs": [],
   "source": [
    "tot_df_use = tot_df[tot_df[\"type\"].isin([\"classical_1000\", \"quantum\"])]\n",
    "plt.figure(figsize=(12,6))\n",
    "plt.title(\"Distribution of FPL points for different configurations (Classical 1000 vs Quantum)\", fontsize=14)\n",
    "sns.kdeplot(x = \"week_points\", data = tot_df_use, hue=\"type\")\n",
    "plt.xlabel(\"Configuration\", fontsize=12)\n",
    "plt.ylabel(\"FPL points\", fontsize=12)\n",
    "plt.savefig(\"results/gw35_kdeplot_classical_1000_quantum.png\")\n",
    "plt.show();"
   ]
  },
  {
   "cell_type": "markdown",
   "id": "314897cb",
   "metadata": {},
   "source": [
    "### Runtime Analysis"
   ]
  },
  {
   "cell_type": "code",
   "execution_count": null,
   "id": "e153c897",
   "metadata": {},
   "outputs": [],
   "source": [
    "gw35_list_classical = os.listdir(\"gw35_exp_classical\")\n",
    "df = pd.DataFrame()\n",
    "count = 1\n",
    "for data in gw35_list_classical:\n",
    "    if \".csv\" in data:\n",
    "        #print(data)\n",
    "        new_df = pd.read_csv(\"gw35_exp_classical/\" + data)\n",
    "        new_df = new_df.merge(gw35, on = [\"name\", \"team\", \"position\"], how = \"left\")\n",
    "        #df_info = pd.DataFrame()\n",
    "        #df_info[\"total_points\"] = sum(new_df[\"week_points\"])\n",
    "        new_df[\"iteration\"] = count\n",
    "        new_df[\"GW\"] = 35\n",
    "        count += 1\n",
    "        df = pd.concat([df, new_df], axis = 0).reset_index(drop=True)\n",
    "        \n",
    "df_grouped_classical = df.groupby([\"iteration\", \"GW\"], as_index=False)[\"elapsed\"].mean()\n",
    "df_grouped_classical[\"type\"] = \"classical_100\""
   ]
  },
  {
   "cell_type": "code",
   "execution_count": null,
   "id": "25fc20bb",
   "metadata": {},
   "outputs": [],
   "source": [
    "gw35_list_classical_1000 = os.listdir(\"gw35_exp_classical_1000\")\n",
    "df = pd.DataFrame()\n",
    "count = 1\n",
    "for data in gw35_list_classical_1000:\n",
    "    if \".csv\" in data:\n",
    "        #print(data)\n",
    "        new_df = pd.read_csv(\"gw35_exp_classical_1000/\" + data)\n",
    "        new_df = new_df.merge(gw35, on = [\"name\", \"team\", \"position\"], how = \"left\")\n",
    "        #df_info = pd.DataFrame()\n",
    "        #df_info[\"total_points\"] = sum(new_df[\"week_points\"])\n",
    "        new_df[\"iteration\"] = count\n",
    "        new_df[\"GW\"] = 35\n",
    "        count += 1\n",
    "        df = pd.concat([df, new_df], axis = 0).reset_index(drop=True)\n",
    "        \n",
    "df_grouped_classical_1000 = df.groupby([\"iteration\", \"GW\"], as_index=False)[\"elapsed\"].mean()\n",
    "df_grouped_classical_1000[\"type\"] = \"classical_1000\""
   ]
  },
  {
   "cell_type": "code",
   "execution_count": null,
   "id": "85f00a9a",
   "metadata": {},
   "outputs": [],
   "source": [
    "gw35_list_classical_10000 = os.listdir(\"gw35_exp_classical_10000\")\n",
    "df = pd.DataFrame()\n",
    "count = 1\n",
    "for data in gw35_list_classical_10000:\n",
    "    if \".csv\" in data:\n",
    "        #print(data)\n",
    "        new_df = pd.read_csv(\"gw35_exp_classical_10000/\" + data)\n",
    "        new_df = new_df.merge(gw35, on = [\"name\", \"team\", \"position\"], how = \"left\")\n",
    "        #df_info = pd.DataFrame()\n",
    "        #df_info[\"total_points\"] = sum(new_df[\"week_points\"])\n",
    "        new_df[\"iteration\"] = count\n",
    "        new_df[\"GW\"] = 35\n",
    "        count += 1\n",
    "        df = pd.concat([df, new_df], axis = 0).reset_index(drop=True)\n",
    "        \n",
    "df_grouped_classical_10000 = df.groupby([\"iteration\", \"GW\"], as_index=False)[\"elapsed\"].mean()\n",
    "df_grouped_classical_10000[\"type\"] = \"classical_10000\""
   ]
  },
  {
   "cell_type": "code",
   "execution_count": null,
   "id": "94a7134b",
   "metadata": {},
   "outputs": [],
   "source": [
    "gw35_list_quantum = os.listdir(\"gw35_exp_quantum\")\n",
    "df = pd.DataFrame()\n",
    "count = 1\n",
    "for data in gw35_list_quantum:\n",
    "    if \".csv\" in data:\n",
    "        #print(data)\n",
    "        new_df = pd.read_csv(\"gw35_exp_quantum/\" + data)\n",
    "        new_df = new_df.merge(gw35, on = [\"name\", \"team\", \"position\"], how = \"left\")\n",
    "        #df_info = pd.DataFrame()\n",
    "        #df_info[\"total_points\"] = sum(new_df[\"week_points\"])\n",
    "        new_df[\"iteration\"] = count\n",
    "        new_df[\"GW\"] = 35\n",
    "        count += 1\n",
    "        df = pd.concat([df, new_df], axis = 0).reset_index(drop=True)\n",
    "        \n",
    "df_grouped_quantum = df.groupby([\"iteration\", \"GW\"], as_index=False)[\"elapsed\"].mean()\n",
    "df_grouped_quantum[\"type\"] = \"quantum\""
   ]
  },
  {
   "cell_type": "code",
   "execution_count": null,
   "id": "5592a076",
   "metadata": {},
   "outputs": [],
   "source": [
    "tot_df = pd.concat([df_grouped_classical, df_grouped_classical_1000, df_grouped_classical_10000, df_grouped_quantum], axis = 0).reset_index(drop=True)"
   ]
  },
  {
   "cell_type": "code",
   "execution_count": null,
   "id": "e11de7a8",
   "metadata": {},
   "outputs": [],
   "source": [
    "tot_elapsed = tot_df.groupby(\"type\", as_index=False)[\"elapsed\"].mean().sort_values(\"elapsed\")"
   ]
  },
  {
   "cell_type": "code",
   "execution_count": null,
   "id": "12168dbc",
   "metadata": {},
   "outputs": [],
   "source": [
    "#tot_elapsed[\"log_elapsed\"] = np.log(tot_elapsed[\"elapsed\"])\n",
    "tot_elapsed.sort_values(\"elapsed\")"
   ]
  },
  {
   "cell_type": "code",
   "execution_count": null,
   "id": "60abc126",
   "metadata": {},
   "outputs": [],
   "source": [
    "plt.figure(figsize=(12,6))\n",
    "#sns.barplot(x = \"type\", y = \"week_points\", data = tot_mean)\n",
    "plt.title(\"Average Runtime for different configurations\", fontsize=14)\n",
    "ax = sns.barplot(x = \"type\", y = \"elapsed\", data = tot_elapsed)\n",
    "ax.bar_label(ax.containers[0], labels=round(tot_elapsed[\"elapsed\"], 2), fontsize=12)\n",
    "plt.xlabel(\"Configuration\", fontsize=12)\n",
    "plt.ylabel(\"Average Runtime\", fontsize=12)\n",
    "#plt.ylim(39, 45)\n",
    "plt.ylim(0, 33)\n",
    "plt.savefig(\"results/gw35_runtime_barchart.png\")\n",
    "plt.show();"
   ]
  },
  {
   "cell_type": "code",
   "execution_count": null,
   "id": "6962dafa",
   "metadata": {},
   "outputs": [],
   "source": []
  }
 ],
 "metadata": {
  "kernelspec": {
   "display_name": "Python 3 (ipykernel)",
   "language": "python",
   "name": "python3"
  },
  "language_info": {
   "codemirror_mode": {
    "name": "ipython",
    "version": 3
   },
   "file_extension": ".py",
   "mimetype": "text/x-python",
   "name": "python",
   "nbconvert_exporter": "python",
   "pygments_lexer": "ipython3",
   "version": "3.9.12"
  }
 },
 "nbformat": 4,
 "nbformat_minor": 5
}

{
 "cells": [
  {
   "cell_type": "code",
   "execution_count": 23,
   "id": "d6f9d77d",
   "metadata": {},
   "outputs": [],
   "source": [
    "import pandas as pd\n",
    "import numpy as np\n",
    "import os\n",
    "import seaborn as sns; sns.set_style(\"darkgrid\")\n",
    "import matplotlib.pyplot as plt\n",
    "%matplotlib inline"
   ]
  },
  {
   "cell_type": "code",
   "execution_count": 24,
   "id": "de514aae",
   "metadata": {},
   "outputs": [],
   "source": [
    "gw36 = pd.read_csv(\"https://raw.githubusercontent.com/vaastav/Fantasy-Premier-League/master/data/2023-24/gws/gw36.csv\")"
   ]
  },
  {
   "cell_type": "code",
   "execution_count": 25,
   "id": "98df07cf",
   "metadata": {},
   "outputs": [
    {
     "data": {
      "text/plain": [
       "926"
      ]
     },
     "execution_count": 25,
     "metadata": {},
     "output_type": "execute_result"
    }
   ],
   "source": [
    "gw36 = gw36[[\"name\", \"position\", \"team\", \"total_points\"]]\n",
    "gw36 = gw36.rename(columns={\"total_points\":\"week_points\"})\n",
    "sum(gw36[\"week_points\"])"
   ]
  },
  {
   "cell_type": "markdown",
   "id": "5badc072",
   "metadata": {},
   "source": [
    "### Performance Analysis"
   ]
  },
  {
   "cell_type": "code",
   "execution_count": 26,
   "id": "9384f9c8",
   "metadata": {},
   "outputs": [],
   "source": [
    "gw36_list_classical = os.listdir(\"gw36_exp_classical_100\")\n",
    "df = pd.DataFrame()\n",
    "count = 1\n",
    "for data in gw36_list_classical:\n",
    "    if \".csv\" in data:\n",
    "        #print(data)\n",
    "        new_df = pd.read_csv(\"gw36_exp_classical_100/\" + data)\n",
    "        new_df = new_df.merge(gw36, on = [\"name\", \"team\", \"position\"], how = \"left\")\n",
    "        #df_info = pd.DataFrame()\n",
    "        #df_info[\"total_points\"] = sum(new_df[\"week_points\"])\n",
    "        new_df[\"iteration\"] = count\n",
    "        new_df[\"GW\"] = 36\n",
    "        count += 1\n",
    "        df = pd.concat([df, new_df], axis = 0).reset_index(drop=True)\n",
    "        \n",
    "df_grouped_classical = df.groupby([\"iteration\", \"GW\"], as_index=False)[\"week_points\"].sum()\n",
    "df_grouped_classical[\"type\"] = \"classical_100\""
   ]
  },
  {
   "cell_type": "code",
   "execution_count": 27,
   "id": "80e01d43",
   "metadata": {},
   "outputs": [],
   "source": [
    "gw36_list_classical_1000 = os.listdir(\"gw36_exp_classical_1000\")\n",
    "df = pd.DataFrame()\n",
    "count = 1\n",
    "for data in gw36_list_classical_1000:\n",
    "    if \".csv\" in data:\n",
    "        #print(data)\n",
    "        new_df = pd.read_csv(\"gw36_exp_classical_1000/\" + data)\n",
    "        new_df = new_df.merge(gw36, on = [\"name\", \"team\", \"position\"], how = \"left\")\n",
    "        #df_info = pd.DataFrame()\n",
    "        #df_info[\"total_points\"] = sum(new_df[\"week_points\"])\n",
    "        new_df[\"iteration\"] = count\n",
    "        new_df[\"GW\"] = 36\n",
    "        count += 1\n",
    "        df = pd.concat([df, new_df], axis = 0).reset_index(drop=True)\n",
    "        \n",
    "df_grouped_classical_1000 = df.groupby([\"iteration\", \"GW\"], as_index=False)[\"week_points\"].sum()\n",
    "df_grouped_classical_1000[\"type\"] = \"classical_1000\""
   ]
  },
  {
   "cell_type": "code",
   "execution_count": 28,
   "id": "6ccf4b74",
   "metadata": {},
   "outputs": [],
   "source": [
    "gw36_list_classical_10000 = os.listdir(\"gw36_exp_classical_10000\")\n",
    "df = pd.DataFrame()\n",
    "count = 1\n",
    "for data in gw36_list_classical_10000:\n",
    "    if \".csv\" in data:\n",
    "        #print(data)\n",
    "        new_df = pd.read_csv(\"gw36_exp_classical_10000/\" + data)\n",
    "        new_df = new_df.merge(gw36, on = [\"name\", \"team\", \"position\"], how = \"left\")\n",
    "        #df_info = pd.DataFrame()\n",
    "        #df_info[\"total_points\"] = sum(new_df[\"week_points\"])\n",
    "        new_df[\"iteration\"] = count\n",
    "        new_df[\"GW\"] = 36\n",
    "        count += 1\n",
    "        df = pd.concat([df, new_df], axis = 0).reset_index(drop=True)\n",
    "        \n",
    "df_grouped_classical_10000 = df.groupby([\"iteration\", \"GW\"], as_index=False)[\"week_points\"].sum()\n",
    "df_grouped_classical_10000[\"type\"] = \"classical_10000\""
   ]
  },
  {
   "cell_type": "code",
   "execution_count": 29,
   "id": "03fb93eb",
   "metadata": {},
   "outputs": [],
   "source": [
    "gw36_list_quantum = os.listdir(\"gw36_exp_quantum\")\n",
    "df = pd.DataFrame()\n",
    "count = 1\n",
    "for data in gw36_list_quantum:\n",
    "    if \".csv\" in data:\n",
    "        #print(data)\n",
    "        new_df = pd.read_csv(\"gw36_exp_quantum/\" + data)\n",
    "        new_df = new_df.merge(gw36, on = [\"name\", \"team\", \"position\"], how = \"left\")\n",
    "        #df_info = pd.DataFrame()\n",
    "        #df_info[\"total_points\"] = sum(new_df[\"week_points\"])\n",
    "        new_df[\"iteration\"] = count\n",
    "        new_df[\"GW\"] = 36\n",
    "        count += 1\n",
    "        df = pd.concat([df, new_df], axis = 0).reset_index(drop=True)\n",
    "        \n",
    "df_grouped_quantum = df.groupby([\"iteration\", \"GW\"], as_index=False)[\"week_points\"].sum()\n",
    "df_grouped_quantum[\"type\"] = \"quantum\""
   ]
  },
  {
   "cell_type": "code",
   "execution_count": 30,
   "id": "9054738a",
   "metadata": {},
   "outputs": [],
   "source": [
    "tot_df = pd.concat([df_grouped_classical, df_grouped_classical_1000, df_grouped_classical_10000, df_grouped_quantum], axis = 0).reset_index(drop=True)"
   ]
  },
  {
   "cell_type": "code",
   "execution_count": 31,
   "id": "894f912c",
   "metadata": {},
   "outputs": [
    {
     "data": {
      "image/png": "[encoded data removed]",
      "text/plain": [
       "<Figure size 864x432 with 1 Axes>"
      ]
     },
     "metadata": {
      "needs_background": "light"
     },
     "output_type": "display_data"
    }
   ],
   "source": [
    "plt.figure(figsize=(12,6))\n",
    "plt.title(\"Distribution of FPL points for different configurations\", fontsize=14)\n",
    "sns.boxplot(x = \"type\", y = \"week_points\", data = tot_df)\n",
    "plt.xlabel(\"Configuration\", fontsize=12)\n",
    "plt.ylabel(\"FPL points\", fontsize=12)\n",
    "plt.savefig(\"results/gw36_boxplot.png\")\n",
    "plt.show();"
   ]
  },
  {
   "cell_type": "code",
   "execution_count": 32,
   "id": "9fb41b67",
   "metadata": {},
   "outputs": [
    {
     "data": {
      "text/html": [
       "<div>\n",
       "<style scoped>\n",
       "    .dataframe tbody tr th:only-of-type {\n",
       "        vertical-align: middle;\n",
       "    }\n",
       "\n",
       "    .dataframe tbody tr th {\n",
       "        vertical-align: top;\n",
       "    }\n",
       "\n",
       "    .dataframe thead th {\n",
       "        text-align: right;\n",
       "    }\n",
       "</style>\n",
       "<table border=\"1\" class=\"dataframe\">\n",
       "  <thead>\n",
       "    <tr style=\"text-align: right;\">\n",
       "      <th></th>\n",
       "      <th>count</th>\n",
       "      <th>mean</th>\n",
       "      <th>std</th>\n",
       "      <th>min</th>\n",
       "      <th>25%</th>\n",
       "      <th>50%</th>\n",
       "      <th>75%</th>\n",
       "      <th>max</th>\n",
       "    </tr>\n",
       "    <tr>\n",
       "      <th>type</th>\n",
       "      <th></th>\n",
       "      <th></th>\n",
       "      <th></th>\n",
       "      <th></th>\n",
       "      <th></th>\n",
       "      <th></th>\n",
       "      <th></th>\n",
       "      <th></th>\n",
       "    </tr>\n",
       "  </thead>\n",
       "  <tbody>\n",
       "    <tr>\n",
       "      <th>classical_100</th>\n",
       "      <td>50.0</td>\n",
       "      <td>55.26</td>\n",
       "      <td>10.996864</td>\n",
       "      <td>29.0</td>\n",
       "      <td>48.00</td>\n",
       "      <td>56.5</td>\n",
       "      <td>62.75</td>\n",
       "      <td>79.0</td>\n",
       "    </tr>\n",
       "    <tr>\n",
       "      <th>classical_1000</th>\n",
       "      <td>50.0</td>\n",
       "      <td>54.68</td>\n",
       "      <td>10.972024</td>\n",
       "      <td>29.0</td>\n",
       "      <td>48.00</td>\n",
       "      <td>53.5</td>\n",
       "      <td>60.00</td>\n",
       "      <td>91.0</td>\n",
       "    </tr>\n",
       "    <tr>\n",
       "      <th>classical_10000</th>\n",
       "      <td>50.0</td>\n",
       "      <td>55.32</td>\n",
       "      <td>10.910471</td>\n",
       "      <td>38.0</td>\n",
       "      <td>46.25</td>\n",
       "      <td>55.5</td>\n",
       "      <td>61.75</td>\n",
       "      <td>80.0</td>\n",
       "    </tr>\n",
       "    <tr>\n",
       "      <th>quantum</th>\n",
       "      <td>50.0</td>\n",
       "      <td>54.26</td>\n",
       "      <td>11.365558</td>\n",
       "      <td>33.0</td>\n",
       "      <td>47.25</td>\n",
       "      <td>53.5</td>\n",
       "      <td>59.75</td>\n",
       "      <td>91.0</td>\n",
       "    </tr>\n",
       "  </tbody>\n",
       "</table>\n",
       "</div>"
      ],
      "text/plain": [
       "                 count   mean        std   min    25%   50%    75%   max\n",
       "type                                                                    \n",
       "classical_100     50.0  55.26  10.996864  29.0  48.00  56.5  62.75  79.0\n",
       "classical_1000    50.0  54.68  10.972024  29.0  48.00  53.5  60.00  91.0\n",
       "classical_10000   50.0  55.32  10.910471  38.0  46.25  55.5  61.75  80.0\n",
       "quantum           50.0  54.26  11.365558  33.0  47.25  53.5  59.75  91.0"
      ]
     },
     "execution_count": 32,
     "metadata": {},
     "output_type": "execute_result"
    }
   ],
   "source": [
    "tot_df.groupby(\"type\")[\"week_points\"].describe()"
   ]
  },
  {
   "cell_type": "code",
   "execution_count": 33,
   "id": "3ca67317",
   "metadata": {},
   "outputs": [
    {
     "data": {
      "text/html": [
       "<div>\n",
       "<style scoped>\n",
       "    .dataframe tbody tr th:only-of-type {\n",
       "        vertical-align: middle;\n",
       "    }\n",
       "\n",
       "    .dataframe tbody tr th {\n",
       "        vertical-align: top;\n",
       "    }\n",
       "\n",
       "    .dataframe thead th {\n",
       "        text-align: right;\n",
       "    }\n",
       "</style>\n",
       "<table border=\"1\" class=\"dataframe\">\n",
       "  <thead>\n",
       "    <tr style=\"text-align: right;\">\n",
       "      <th></th>\n",
       "      <th>type</th>\n",
       "      <th>week_points</th>\n",
       "    </tr>\n",
       "  </thead>\n",
       "  <tbody>\n",
       "    <tr>\n",
       "      <th>0</th>\n",
       "      <td>classical_100</td>\n",
       "      <td>55.26</td>\n",
       "    </tr>\n",
       "    <tr>\n",
       "      <th>1</th>\n",
       "      <td>classical_1000</td>\n",
       "      <td>54.68</td>\n",
       "    </tr>\n",
       "    <tr>\n",
       "      <th>2</th>\n",
       "      <td>classical_10000</td>\n",
       "      <td>55.32</td>\n",
       "    </tr>\n",
       "    <tr>\n",
       "      <th>3</th>\n",
       "      <td>quantum</td>\n",
       "      <td>54.26</td>\n",
       "    </tr>\n",
       "  </tbody>\n",
       "</table>\n",
       "</div>"
      ],
      "text/plain": [
       "              type  week_points\n",
       "0    classical_100        55.26\n",
       "1   classical_1000        54.68\n",
       "2  classical_10000        55.32\n",
       "3          quantum        54.26"
      ]
     },
     "execution_count": 33,
     "metadata": {},
     "output_type": "execute_result"
    }
   ],
   "source": [
    "tot_mean = tot_df.groupby(\"type\", as_index=False)[\"week_points\"].mean()\n",
    "tot_mean"
   ]
  },
  {
   "cell_type": "code",
   "execution_count": 34,
   "id": "837a9946",
   "metadata": {},
   "outputs": [
    {
     "data": {
      "image/png": "[encoded data removed]",
      "text/plain": [
       "<Figure size 864x432 with 1 Axes>"
      ]
     },
     "metadata": {
      "needs_background": "light"
     },
     "output_type": "display_data"
    }
   ],
   "source": [
    "plt.figure(figsize=(12,6))\n",
    "#sns.barplot(x = \"type\", y = \"week_points\", data = tot_mean)\n",
    "plt.title(\"Average FPL points for different configurations\", fontsize=14)\n",
    "ax = sns.barplot(x = \"type\", y = \"week_points\", data = tot_mean)\n",
    "ax.bar_label(ax.containers[0], labels=tot_mean['week_points'], fontsize=12)\n",
    "plt.xlabel(\"Configuration\", fontsize=12)\n",
    "plt.ylabel(\"Average FPL points\", fontsize=12)\n",
    "plt.ylim(50, 56)\n",
    "plt.savefig(\"results/gw36_barchart.png\")\n",
    "plt.show();"
   ]
  },
  {
   "cell_type": "code",
   "execution_count": 35,
   "id": "fe3de418",
   "metadata": {},
   "outputs": [
    {
     "data": {
      "image/png": "[encoded data removed]",
      "text/plain": [
       "<Figure size 864x432 with 1 Axes>"
      ]
     },
     "metadata": {
      "needs_background": "light"
     },
     "output_type": "display_data"
    }
   ],
   "source": [
    "tot_df_use = tot_df[tot_df[\"type\"].isin([\"classical_100\", \"quantum\"])]\n",
    "plt.figure(figsize=(12,6))\n",
    "plt.title(\"Distribution of FPL points for different configurations (Classical 1000 vs Quantum)\", fontsize=14)\n",
    "sns.kdeplot(x = \"week_points\", data = tot_df_use, hue=\"type\")\n",
    "plt.xlabel(\"Configuration\", fontsize=12)\n",
    "plt.ylabel(\"FPL points\", fontsize=12)\n",
    "plt.savefig(\"results/gw36_kdeplot_classical_10000_quantum.png\")\n",
    "plt.show();"
   ]
  },
  {
   "cell_type": "markdown",
   "id": "314897cb",
   "metadata": {},
   "source": [
    "### Runtime Analysis"
   ]
  },
  {
   "cell_type": "code",
   "execution_count": 36,
   "id": "e153c897",
   "metadata": {},
   "outputs": [],
   "source": [
    "gw36_list_classical = os.listdir(\"gw36_exp_classical_100\")\n",
    "df = pd.DataFrame()\n",
    "count = 1\n",
    "for data in gw36_list_classical:\n",
    "    if \".csv\" in data:\n",
    "        #print(data)\n",
    "        new_df = pd.read_csv(\"gw36_exp_classical_100/\" + data)\n",
    "        new_df = new_df.merge(gw36, on = [\"name\", \"team\", \"position\"], how = \"left\")\n",
    "        #df_info = pd.DataFrame()\n",
    "        #df_info[\"total_points\"] = sum(new_df[\"week_points\"])\n",
    "        new_df[\"iteration\"] = count\n",
    "        new_df[\"GW\"] = 36\n",
    "        count += 1\n",
    "        df = pd.concat([df, new_df], axis = 0).reset_index(drop=True)\n",
    "        \n",
    "df_grouped_classical = df.groupby([\"iteration\", \"GW\"], as_index=False)[\"elapsed\"].mean()\n",
    "df_grouped_classical[\"type\"] = \"classical_100\""
   ]
  },
  {
   "cell_type": "code",
   "execution_count": 37,
   "id": "25fc20bb",
   "metadata": {},
   "outputs": [],
   "source": [
    "gw36_list_classical_1000 = os.listdir(\"gw36_exp_classical_1000\")\n",
    "df = pd.DataFrame()\n",
    "count = 1\n",
    "for data in gw36_list_classical_1000:\n",
    "    if \".csv\" in data:\n",
    "        #print(data)\n",
    "        new_df = pd.read_csv(\"gw36_exp_classical_1000/\" + data)\n",
    "        new_df = new_df.merge(gw36, on = [\"name\", \"team\", \"position\"], how = \"left\")\n",
    "        #df_info = pd.DataFrame()\n",
    "        #df_info[\"total_points\"] = sum(new_df[\"week_points\"])\n",
    "        new_df[\"iteration\"] = count\n",
    "        new_df[\"GW\"] = 36\n",
    "        count += 1\n",
    "        df = pd.concat([df, new_df], axis = 0).reset_index(drop=True)\n",
    "        \n",
    "df_grouped_classical_1000 = df.groupby([\"iteration\", \"GW\"], as_index=False)[\"elapsed\"].mean()\n",
    "df_grouped_classical_1000[\"type\"] = \"classical_1000\""
   ]
  },
  {
   "cell_type": "code",
   "execution_count": 38,
   "id": "85f00a9a",
   "metadata": {},
   "outputs": [],
   "source": [
    "gw36_list_classical_10000 = os.listdir(\"gw36_exp_classical_10000\")\n",
    "df = pd.DataFrame()\n",
    "count = 1\n",
    "for data in gw36_list_classical_10000:\n",
    "    if \".csv\" in data:\n",
    "        #print(data)\n",
    "        new_df = pd.read_csv(\"gw36_exp_classical_10000/\" + data)\n",
    "        new_df = new_df.merge(gw36, on = [\"name\", \"team\", \"position\"], how = \"left\")\n",
    "        #df_info = pd.DataFrame()\n",
    "        #df_info[\"total_points\"] = sum(new_df[\"week_points\"])\n",
    "        new_df[\"iteration\"] = count\n",
    "        new_df[\"GW\"] = 36\n",
    "        count += 1\n",
    "        df = pd.concat([df, new_df], axis = 0).reset_index(drop=True)\n",
    "        \n",
    "df_grouped_classical_10000 = df.groupby([\"iteration\", \"GW\"], as_index=False)[\"elapsed\"].mean()\n",
    "df_grouped_classical_10000[\"type\"] = \"classical_10000\""
   ]
  },
  {
   "cell_type": "code",
   "execution_count": 39,
   "id": "94a7134b",
   "metadata": {},
   "outputs": [],
   "source": [
    "gw36_list_quantum = os.listdir(\"gw36_exp_quantum\")\n",
    "df = pd.DataFrame()\n",
    "count = 1\n",
    "for data in gw36_list_quantum:\n",
    "    if \".csv\" in data:\n",
    "        #print(data)\n",
    "        new_df = pd.read_csv(\"gw36_exp_quantum/\" + data)\n",
    "        new_df = new_df.merge(gw36, on = [\"name\", \"team\", \"position\"], how = \"left\")\n",
    "        #df_info = pd.DataFrame()\n",
    "        #df_info[\"total_points\"] = sum(new_df[\"week_points\"])\n",
    "        new_df[\"iteration\"] = count\n",
    "        new_df[\"GW\"] = 36\n",
    "        count += 1\n",
    "        df = pd.concat([df, new_df], axis = 0).reset_index(drop=True)\n",
    "        \n",
    "df_grouped_quantum = df.groupby([\"iteration\", \"GW\"], as_index=False)[\"elapsed\"].mean()\n",
    "df_grouped_quantum[\"type\"] = \"quantum\""
   ]
  },
  {
   "cell_type": "code",
   "execution_count": 40,
   "id": "5592a076",
   "metadata": {},
   "outputs": [],
   "source": [
    "tot_df = pd.concat([df_grouped_classical, df_grouped_classical_1000, df_grouped_classical_10000, df_grouped_quantum], axis = 0).reset_index(drop=True)"
   ]
  },
  {
   "cell_type": "code",
   "execution_count": 41,
   "id": "e11de7a8",
   "metadata": {},
   "outputs": [],
   "source": [
    "tot_elapsed = tot_df.groupby(\"type\", as_index=False)[\"elapsed\"].mean().sort_values(\"elapsed\")"
   ]
  },
  {
   "cell_type": "code",
   "execution_count": 42,
   "id": "12168dbc",
   "metadata": {},
   "outputs": [
    {
     "data": {
      "text/html": [
       "<div>\n",
       "<style scoped>\n",
       "    .dataframe tbody tr th:only-of-type {\n",
       "        vertical-align: middle;\n",
       "    }\n",
       "\n",
       "    .dataframe tbody tr th {\n",
       "        vertical-align: top;\n",
       "    }\n",
       "\n",
       "    .dataframe thead th {\n",
       "        text-align: right;\n",
       "    }\n",
       "</style>\n",
       "<table border=\"1\" class=\"dataframe\">\n",
       "  <thead>\n",
       "    <tr style=\"text-align: right;\">\n",
       "      <th></th>\n",
       "      <th>type</th>\n",
       "      <th>elapsed</th>\n",
       "    </tr>\n",
       "  </thead>\n",
       "  <tbody>\n",
       "    <tr>\n",
       "      <th>0</th>\n",
       "      <td>classical_100</td>\n",
       "      <td>0.346458</td>\n",
       "    </tr>\n",
       "    <tr>\n",
       "      <th>1</th>\n",
       "      <td>classical_1000</td>\n",
       "      <td>3.287363</td>\n",
       "    </tr>\n",
       "    <tr>\n",
       "      <th>3</th>\n",
       "      <td>quantum</td>\n",
       "      <td>3.814430</td>\n",
       "    </tr>\n",
       "    <tr>\n",
       "      <th>2</th>\n",
       "      <td>classical_10000</td>\n",
       "      <td>32.890664</td>\n",
       "    </tr>\n",
       "  </tbody>\n",
       "</table>\n",
       "</div>"
      ],
      "text/plain": [
       "              type    elapsed\n",
       "0    classical_100   0.346458\n",
       "1   classical_1000   3.287363\n",
       "3          quantum   3.814430\n",
       "2  classical_10000  32.890664"
      ]
     },
     "execution_count": 42,
     "metadata": {},
     "output_type": "execute_result"
    }
   ],
   "source": [
    "#tot_elapsed[\"log_elapsed\"] = np.log(tot_elapsed[\"elapsed\"])\n",
    "tot_elapsed.sort_values(\"elapsed\")"
   ]
  },
  {
   "cell_type": "code",
   "execution_count": 43,
   "id": "60abc126",
   "metadata": {},
   "outputs": [
    {
     "data": {
      "image/png": "[encoded data removed]",
      "text/plain": [
       "<Figure size 864x432 with 1 Axes>"
      ]
     },
     "metadata": {
      "needs_background": "light"
     },
     "output_type": "display_data"
    }
   ],
   "source": [
    "plt.figure(figsize=(12,6))\n",
    "#sns.barplot(x = \"type\", y = \"week_points\", data = tot_mean)\n",
    "plt.title(\"Average Runtime for different configurations\", fontsize=14)\n",
    "ax = sns.barplot(x = \"type\", y = \"elapsed\", data = tot_elapsed)\n",
    "ax.bar_label(ax.containers[0], labels=round(tot_elapsed[\"elapsed\"], 2), fontsize=12)\n",
    "plt.xlabel(\"Configuration\", fontsize=12)\n",
    "plt.ylabel(\"Average Runtime\", fontsize=12)\n",
    "#plt.ylim(39, 45)\n",
    "plt.ylim(0, 35)\n",
    "plt.savefig(\"results/gw36_runtime_barchart.png\")\n",
    "plt.show();"
   ]
  },
  {
   "cell_type": "code",
   "execution_count": null,
   "id": "6962dafa",
   "metadata": {},
   "outputs": [],
   "source": []
  }
 ],
 "metadata": {
  "kernelspec": {
   "display_name": "Python 3 (ipykernel)",
   "language": "python",
   "name": "python3"
  },
  "language_info": {
   "codemirror_mode": {
    "name": "ipython",
    "version": 3
   },
   "file_extension": ".py",
   "mimetype": "text/x-python",
   "name": "python",
   "nbconvert_exporter": "python",
   "pygments_lexer": "ipython3",
   "version": "3.9.12"
  }
 },
 "nbformat": 4,
 "nbformat_minor": 5
}

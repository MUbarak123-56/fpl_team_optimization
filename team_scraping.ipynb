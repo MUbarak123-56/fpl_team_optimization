{
 "cells": [
  {
   "cell_type": "code",
   "execution_count": 1,
   "id": "3e2e2609",
   "metadata": {},
   "outputs": [],
   "source": [
    "import pandas as pd\n",
    "import numpy as np"
   ]
  },
  {
   "cell_type": "code",
   "execution_count": null,
   "id": "84335c8f",
   "metadata": {},
   "outputs": [],
   "source": [
    "<img src=\"/dist/img/shirts/standard/shirt_4-66.png\" srcset=\"\n",
    "        /dist/img/shirts/standard/shirt_4-66.png 66w,\n",
    "        /dist/img/shirts/standard/shirt_4-110.png 110w,\n",
    "        /dist/img/shirts/standard/shirt_4-220.png 220w\n",
    "        \" sizes=\"(min-width: 1024px) 55px, (min-width: 610px) 44px, 33px\" alt=\"Newcastle\" class=\"Shirt__StyledShirt-k5q8zl-0 flTOZR\">"
   ]
  },
  {
   "cell_type": "code",
   "execution_count": null,
   "id": "2fdf003b",
   "metadata": {},
   "outputs": [],
   "source": [
    "<img src=\"/dist/img/shirts/standard/shirt_4-66.png\" srcset=\"\n",
    "        /dist/img/shirts/standard/shirt_4-66.png 66w,\n",
    "        /dist/img/shirts/standard/shirt_4-110.png 110w,\n",
    "        /dist/img/shirts/standard/shirt_4-220.png 220w\n",
    "        \" sizes=\"(min-width: 1024px) 55px, (min-width: 610px) 44px, 33px\" alt=\"Newcastle\" class=\"Shirt__StyledShirt-k5q8zl-0 flTOZR\">"
   ]
  }
 ],
 "metadata": {
  "kernelspec": {
   "display_name": "Python 3 (ipykernel)",
   "language": "python",
   "name": "python3"
  },
  "language_info": {
   "codemirror_mode": {
    "name": "ipython",
    "version": 3
   },
   "file_extension": ".py",
   "mimetype": "text/x-python",
   "name": "python",
   "nbconvert_exporter": "python",
   "pygments_lexer": "ipython3",
   "version": "3.9.12"
  }
 },
 "nbformat": 4,
 "nbformat_minor": 5
}
